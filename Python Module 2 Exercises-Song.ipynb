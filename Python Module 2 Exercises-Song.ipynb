{
 "cells": [
  {
   "cell_type": "markdown",
   "metadata": {},
   "source": [
    "1. Print out a data type of a variable?"
   ]
  },
  {
   "cell_type": "code",
   "execution_count": 13,
   "metadata": {},
   "outputs": [
    {
     "data": {
      "text/plain": [
       "str"
      ]
     },
     "execution_count": 13,
     "metadata": {},
     "output_type": "execute_result"
    }
   ],
   "source": [
    "example = \"3.1415926536\"\n",
    "type(example)"
   ]
  },
  {
   "cell_type": "markdown",
   "metadata": {},
   "source": [
    "2. Round 4.5667 to the nearest hundreth using a build-in function, round()."
   ]
  },
  {
   "cell_type": "code",
   "execution_count": 2,
   "metadata": {},
   "outputs": [
    {
     "data": {
      "text/plain": [
       "4.57"
      ]
     },
     "execution_count": 2,
     "metadata": {},
     "output_type": "execute_result"
    }
   ],
   "source": [
    "round(4.5667, 2)"
   ]
  },
  {
   "cell_type": "markdown",
   "metadata": {},
   "source": [
    "3. Convert \"657\" to an integer data type"
   ]
  },
  {
   "cell_type": "code",
   "execution_count": 1,
   "metadata": {},
   "outputs": [
    {
     "data": {
      "text/plain": [
       "657"
      ]
     },
     "execution_count": 1,
     "metadata": {},
     "output_type": "execute_result"
    }
   ],
   "source": [
    "int(\"657\")"
   ]
  },
  {
   "cell_type": "markdown",
   "metadata": {},
   "source": [
    "4. Write a function to calculate the miles per gallon.\n",
    "Get a miles driven and gallons used from a user and call your function to calculate the miles per gallon. "
   ]
  },
  {
   "cell_type": "code",
   "execution_count": 15,
   "metadata": {},
   "outputs": [
    {
     "name": "stdout",
     "output_type": "stream",
     "text": [
      "Enter miles driven: 150\n",
      "Enter gallons of gas used: 15\n",
      "Miles Per Gallon: 10.0\n"
     ]
    }
   ],
   "source": [
    "def miles_per_gallon (miles_driven, gallons_used):\n",
    "    MPG = miles / gallon\n",
    "    print(\"Miles Per Gallon:\", MPG)\n",
    "\n",
    "    \n",
    "miles = int(input(\"Enter miles driven: \"))\n",
    "gallon = int(input(\"Enter gallons of gas used: \"))\n",
    "\n",
    "miles_per_gallon(miles, gallon)"
   ]
  },
  {
   "cell_type": "markdown",
   "metadata": {},
   "source": [
    "5. Enhance your function from exercise 3. Additionally, get a gas price per gallon from a user and write a program to compute the total gas cost and cost per mile. \n",
    "\n",
    "The output should look something like this:\n",
    "\n",
    "    Enter miles driven:            150\n",
    "    Enter gallons of gas used:     15\n",
    "    Enter cost per gallon:          3\n",
    "\n",
    "    Miles Per Gallon:   10.0\n",
    "    Total Gas Cost:     45.0\n",
    "    Cost per Mile:      0.3\n"
   ]
  },
  {
   "cell_type": "code",
   "execution_count": 14,
   "metadata": {},
   "outputs": [
    {
     "name": "stdout",
     "output_type": "stream",
     "text": [
      "Enter miles driven: \t\t150\n",
      "Enter gallons of gas used: \t15\n",
      "Enter cost per gallon: \t\t3\n",
      "Miles Per Gallon: \t 10.0\n",
      "Total Gas Cost: \t 45\n",
      "Cost per Mile: \t\t 0.3\n"
     ]
    }
   ],
   "source": [
    "def road_trip (miles_driven, gallons_used, cost_per_gallon):\n",
    "    MPG = miles_driven / gallons_used\n",
    "    cost_gas_total = gallons_used * cost_per_gallon \n",
    "    cost_per_mile = cost_gas_total / miles_driven\n",
    "\n",
    "    print(f\"Miles Per Gallon: \\t {MPG}\")\n",
    "    print(f\"Total Gas Cost: \\t {cost_gas_total}\")\n",
    "    print(f\"Cost per Mile: \\t\\t {cost_per_mile}\")\n",
    "\n",
    "\n",
    "miles = int(input(\"Enter miles driven: \\t\\t\"))\n",
    "gallon = int(input(\"Enter gallons of gas used: \\t\"))\n",
    "cost = int(input(\"Enter cost per gallon: \\t\\t\"))\n",
    "\n",
    "road_trip(miles, gallon, cost)"
   ]
  },
  {
   "cell_type": "markdown",
   "metadata": {},
   "source": [
    "6. Write a function called multiply_two() that accepts two parameters. The function should print a message like '15 + 2 = 17'.  Randomly generate two numbers between 1 and 100, then call the function with the two random numbers."
   ]
  },
  {
   "cell_type": "code",
   "execution_count": 27,
   "metadata": {},
   "outputs": [
    {
     "name": "stdout",
     "output_type": "stream",
     "text": [
      "37 + 50 = 87\n"
     ]
    }
   ],
   "source": [
    "import random as rand\n",
    "\n",
    "def multiply_two(n1, n2):\n",
    "    print(f'{n1} + {n2} = {n1 + n2}')\n",
    "    \n",
    "num1 = rand.randint(1,100) \n",
    "num2 = rand.randint(1,100) \n",
    "\n",
    "multiply_two(num1, num2)"
   ]
  },
  {
   "cell_type": "markdown",
   "metadata": {},
   "source": [
    "7. Write a function called make_shirt() that accepts a size and the text of a message. The function should print a sentence summarizing the size of the shirt and the message printed on it. The default shirt size is large and default message is 'I love Python!' Make a default size shirt with a message, a medium shirt with the default message, and a shirt of any size with a different message."
   ]
  },
  {
   "cell_type": "code",
   "execution_count": 4,
   "metadata": {},
   "outputs": [
    {
     "name": "stdout",
     "output_type": "stream",
     "text": [
      "Shirt size: large\n",
      "Shirt says: I love Python! \n",
      "\n",
      "Shirt size: medium\n",
      "Shirt says: I love Python! \n",
      "\n",
      "Shirt size: any size\n",
      "Shirt says: Why it doesn't fit? \n",
      "\n"
     ]
    }
   ],
   "source": [
    "def make_shirt(size='large', message='I love Python!'):\n",
    "    print(\"Shirt size:\", size)\n",
    "    print(\"Shirt says:\", message, \"\\n\") # added line break\n",
    "    \n",
    "make_shirt() # default\n",
    "make_shirt('medium')\n",
    "make_shirt('any size', \"Why it doesn't fit?\")"
   ]
  },
  {
   "cell_type": "markdown",
   "metadata": {},
   "source": [
    "8. Create a function for a multiplication table.  Get a number from a user and then call you function which produces a multiplication table for that number.\n",
    "The output should look something like this:\n",
    "\n",
    "        Enter a number: 3\n",
    "        3 X 1 = 3\n",
    "        3 X 2 = 6\n",
    "        3 X 3 = 9\n",
    "        3 X 4 = 12\n",
    "        3 X 5 = 15\n",
    "        3 X 6 = 18\n",
    "        3 X 7 = 21\n",
    "        3 X 8 = 24\n",
    "        3 X 9 = 27\n",
    "        "
   ]
  },
  {
   "cell_type": "code",
   "execution_count": 6,
   "metadata": {},
   "outputs": [
    {
     "name": "stdout",
     "output_type": "stream",
     "text": [
      "Enter a number: 11\n",
      "11 X 1 = 11\n",
      "11 X 2 = 22\n",
      "11 X 3 = 33\n",
      "11 X 4 = 44\n",
      "11 X 5 = 55\n",
      "11 X 6 = 66\n",
      "11 X 7 = 77\n",
      "11 X 8 = 88\n",
      "11 X 9 = 99\n"
     ]
    }
   ],
   "source": [
    "number = int(input(\"Enter a number: \"))\n",
    "\n",
    "print(f\"{number} X 1 = {number * 1}\")\n",
    "print(f\"{number} X 2 = {number * 2}\")\n",
    "print(f\"{number} X 3 = {number * 3}\")\n",
    "print(f\"{number} X 4 = {number * 4}\")\n",
    "print(f\"{number} X 5 = {number * 5}\")\n",
    "print(f\"{number} X 6 = {number * 6}\")\n",
    "print(f\"{number} X 7 = {number * 7}\")\n",
    "print(f\"{number} X 8 = {number * 8}\")\n",
    "print(f\"{number} X 9 = {number * 9}\")\n"
   ]
  },
  {
   "cell_type": "markdown",
   "metadata": {},
   "source": [
    "9. Write a function that accepts a string and returns a string that is \n",
    "    - without any leading nor trailing blanks\n",
    "    - converts to all capital letters\n",
    "    - and replaces all blanks with a period(.).  \n",
    "\n",
    "Write a program to accept a string from a user then call your function and display the original string and changed string.  \n",
    "\n",
    "The output should look something like this:\n",
    "\n",
    "        Enter a text: may your dreams come true\n",
    "        \n",
    "        Original Text: may your dreams come true\n",
    "        New Text: MAY.YOUR.DREAMS.COME.TRUE"
   ]
  },
  {
   "cell_type": "code",
   "execution_count": 7,
   "metadata": {},
   "outputs": [
    {
     "name": "stdout",
     "output_type": "stream",
     "text": [
      "Enter a text: this is a sentence\n",
      "THIS.IS.A.SENTENCE\n"
     ]
    }
   ],
   "source": [
    "def robot_speak (message):\n",
    "    message = message.replace(\" \", \".\")\n",
    "    message = message.upper()\n",
    "    print(message)\n",
    "    \n",
    "text = input(\"Enter a text: \")\n",
    "\n",
    "robot_speak (text)"
   ]
  },
  {
   "cell_type": "markdown",
   "metadata": {},
   "source": [
    "10. Write a function that returns a randomly selected character from a passed string. Write a program to accept a string from a user then call your function and display the original string and selected character.\n",
    "\n",
    "The output should look something like this:\n",
    "\n",
    "        Enter a text: functions\n",
    "        Original Text:\tfunctions\n",
    "        Random character:\ts"
   ]
  },
  {
   "cell_type": "code",
   "execution_count": 10,
   "metadata": {},
   "outputs": [
    {
     "name": "stdout",
     "output_type": "stream",
     "text": [
      "Enter a text: supercalifragilisticexpialidocious\n",
      "Original Text:\t supercalifragilisticexpialidocious\n",
      "Random character:\t c\n"
     ]
    }
   ],
   "source": [
    "import random as rand\n",
    "\n",
    "def random_char(input_text):\n",
    "    select = rand.randint(0, len(input_text))\n",
    "    print(\"Original Text:\\t\", input_text)\n",
    "    print(\"Random character:\\t\", input_text[select])\n",
    "    \n",
    "text = input(\"Enter a text: \")\n",
    "\n",
    "random_char(text)"
   ]
  },
  {
   "cell_type": "code",
   "execution_count": null,
   "metadata": {},
   "outputs": [],
   "source": []
  }
 ],
 "metadata": {
  "kernelspec": {
   "display_name": "Python 3",
   "language": "python",
   "name": "python3"
  },
  "language_info": {
   "codemirror_mode": {
    "name": "ipython",
    "version": 3
   },
   "file_extension": ".py",
   "mimetype": "text/x-python",
   "name": "python",
   "nbconvert_exporter": "python",
   "pygments_lexer": "ipython3",
   "version": "3.8.3"
  }
 },
 "nbformat": 4,
 "nbformat_minor": 4
}
